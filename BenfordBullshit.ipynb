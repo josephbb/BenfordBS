{
 "cells": [
  {
   "cell_type": "code",
   "execution_count": 14,
   "metadata": {},
   "outputs": [],
   "source": [
    "from bs4 import BeautifulSoup as bs\n",
    "import requests\n",
    "import pandas as pd\n",
    "import matplotlib.pyplot as plt\n",
    "import seaborn as sns\n",
    "import numpy as np\n",
    "%matplotlib inline\n",
    "strip_first = lambda x: int(str(x)[0])\n",
    "strip_first_vec = np.vectorize(strip_first)\n",
    "\n",
    "parser = lambda row: row.text.split('\\n')[2:-1]\n",
    "\n",
    "np.random.seed(42)"
   ]
  },
  {
   "cell_type": "code",
   "execution_count": 15,
   "metadata": {},
   "outputs": [],
   "source": [
    "url = 'https://county.milwaukee.gov/EN/County-Clerk/Off-Nav/Election-Results/Election-Results-Fall-2020'\n",
    "r = requests.get(url)"
   ]
  },
  {
   "cell_type": "code",
   "execution_count": 16,
   "metadata": {},
   "outputs": [],
   "source": [
    "bs_data = bs(r.text, 'html.parser')\n",
    "precincts = bs_data.findAll('table', {'class': 'precinctTable'})\n"
   ]
  },
  {
   "cell_type": "code",
   "execution_count": 18,
   "metadata": {},
   "outputs": [
    {
     "ename": "AttributeError",
     "evalue": "ResultSet object has no attribute 'find_all'. You're probably treating a list of elements like a single element. Did you call find_all() when you meant to call find()?",
     "output_type": "error",
     "traceback": [
      "\u001b[0;31m---------------------------------------------------------------------------\u001b[0m",
      "\u001b[0;31mAttributeError\u001b[0m                            Traceback (most recent call last)",
      "\u001b[0;32m<ipython-input-18-184dce1a9a38>\u001b[0m in \u001b[0;36m<module>\u001b[0;34m\u001b[0m\n\u001b[1;32m      1\u001b[0m \u001b[0;31m#Parse html\u001b[0m\u001b[0;34m\u001b[0m\u001b[0;34m\u001b[0m\u001b[0;34m\u001b[0m\u001b[0m\n\u001b[0;32m----> 2\u001b[0;31m \u001b[0mtable_rows\u001b[0m \u001b[0;34m=\u001b[0m \u001b[0mprecincts\u001b[0m\u001b[0;34m.\u001b[0m\u001b[0mfind_all\u001b[0m\u001b[0;34m(\u001b[0m\u001b[0;34m'tr'\u001b[0m\u001b[0;34m)\u001b[0m\u001b[0;34m\u001b[0m\u001b[0;34m\u001b[0m\u001b[0m\n\u001b[0m\u001b[1;32m      3\u001b[0m \u001b[0mheader\u001b[0m \u001b[0;34m=\u001b[0m \u001b[0mparser\u001b[0m\u001b[0;34m(\u001b[0m\u001b[0mtable_rows\u001b[0m\u001b[0;34m[\u001b[0m\u001b[0;36m0\u001b[0m\u001b[0;34m]\u001b[0m\u001b[0;34m)\u001b[0m\u001b[0;34m\u001b[0m\u001b[0;34m\u001b[0m\u001b[0m\n\u001b[1;32m      4\u001b[0m \u001b[0;34m\u001b[0m\u001b[0m\n\u001b[1;32m      5\u001b[0m \u001b[0;31m#Simplify header\u001b[0m\u001b[0;34m\u001b[0m\u001b[0;34m\u001b[0m\u001b[0;34m\u001b[0m\u001b[0m\n",
      "\u001b[0;32m~/anaconda3/lib/python3.7/site-packages/bs4/element.py\u001b[0m in \u001b[0;36m__getattr__\u001b[0;34m(self, key)\u001b[0m\n\u001b[1;32m   2172\u001b[0m         \u001b[0;34m\"\"\"Raise a helpful exception to explain a common code fix.\"\"\"\u001b[0m\u001b[0;34m\u001b[0m\u001b[0;34m\u001b[0m\u001b[0m\n\u001b[1;32m   2173\u001b[0m         raise AttributeError(\n\u001b[0;32m-> 2174\u001b[0;31m             \u001b[0;34m\"ResultSet object has no attribute '%s'. You're probably treating a list of elements like a single element. Did you call find_all() when you meant to call find()?\"\u001b[0m \u001b[0;34m%\u001b[0m \u001b[0mkey\u001b[0m\u001b[0;34m\u001b[0m\u001b[0;34m\u001b[0m\u001b[0m\n\u001b[0m\u001b[1;32m   2175\u001b[0m         )\n",
      "\u001b[0;31mAttributeError\u001b[0m: ResultSet object has no attribute 'find_all'. You're probably treating a list of elements like a single element. Did you call find_all() when you meant to call find()?"
     ]
    }
   ],
   "source": [
    "#Parse html\n",
    "table_rows = precinct.find_all('tr')\n",
    "header = parser(table_rows[0])\n",
    "\n",
    "#Simplify header\n",
    "header = ['Ward', 'Biden', 'Trump','Blankenship','Carroll','Jorgenson','write_in']\n",
    "data = [parser(item) for item in table_rows[1:-1]]\n",
    "\n",
    "#Make a dataframe\n",
    "df = pd.DataFrame(data,columns=header)\n",
    "df[header[1:]] = df[header[1:]].apply(pd.to_numeric)\n",
    "\n",
    "#Calculate the total votes in a ward\n",
    "df['total_votes'] = df[header[1:]].sum(axis=1)\n",
    "#Drop anywhere that has not reported any votes\n",
    "df = df[df.total_votes > 0]\n",
    "df\n"
   ]
  },
  {
   "cell_type": "code",
   "execution_count": null,
   "metadata": {},
   "outputs": [],
   "source": [
    "#Let's regenerate that plot that's been floating around. \n",
    "\n",
    "def plot_benford(who, df,ymax=180):\n",
    "    sns.countplot(x=df[who].apply(strip_first), color='grey',\n",
    "              order = [1,2,3,4,5,6,7,8,9],\n",
    "              alpha=.5)\n",
    "    plt.scatter(np.arange(9),\n",
    "                np.log10(1 + 1/(np.arange(9)+1))*df[who].shape[0],\n",
    "               color='black')\n",
    "    plt.plot(np.arange(9),\n",
    "                np.log10(1 + 1/(np.arange(9)+1))*df[who].shape[0],\n",
    "               color='black')\n",
    "    plt.title(who)\n",
    "    plt.ylim(0,ymax)\n",
    "    \n",
    "plt.figure(figsize=(12,8))\n",
    "plt.suptitle('Actual Milwaukee ward-level data')\n",
    "\n",
    "\n",
    "sns.set_context('paper',font_scale=1.5)\n",
    "sns.set_style('white')\n",
    "\n",
    "for idx,who in enumerate(header[1:]):\n",
    "    plt.subplot(2,3,idx+1)\n",
    "    plot_benford(who,df)\n",
    "plt.tight_layout()"
   ]
  },
  {
   "cell_type": "markdown",
   "metadata": {},
   "source": [
    "<h2>Digging Deeper</h2>"
   ]
  },
  {
   "cell_type": "markdown",
   "metadata": {},
   "source": [
    "<h3>Hypothesis 1: Numbers are made up</h3>"
   ]
  },
  {
   "cell_type": "markdown",
   "metadata": {},
   "source": [
    "<p>The above plot is as far as armchair statisticians went, demonstrating that there is a deviation from expected values from Benford's curve, without explanation. They implied or direclty stated that the deviations for Biden were a result of the total numbers being fabricated by humans.</p> \n",
    "\n",
    "<p>If the results were truly a random sample of voters, the logic goes, Benford's law would apply. Lucky for us, we can simulate that. For each ward and candidate, we simulate a random number of voters consistent with the expected percentage of votes for that candidate.</p> \n",
    "\n",
    "<p>If some conspiracy and fraud produced the distribution of intial digits, randomizing the vote totals removes any human hand in jotting the numbers down. If we still see the violations off Benford's law, something other than human-fudged numbers is going on</p>\n",
    "\n",
    "<b>Prediction: If numbers are made up at precinct level, randomly regeneratign them should restore Benford's law</b>\n"
   ]
  },
  {
   "cell_type": "code",
   "execution_count": null,
   "metadata": {
    "scrolled": true
   },
   "outputs": [],
   "source": [
    "#Now, let's press the claim that the numbers are fake by randomly generating them\n",
    "#with the same average proportions of votes\n",
    "\n",
    "def plot_benford_simulated(who, df,ymax=180):\n",
    "    \n",
    "    #This is the key bit. We're not longer using the totals. \n",
    "    counts = np.random.binomial(df['total_votes'],\n",
    "                       p=df[who].values/df['total_votes'].values)\n",
    "    \n",
    "    sns.countplot(x=strip_first_vec(counts), color='grey',\n",
    "              order = [1,2,3,4,5,6,7,8,9],\n",
    "              alpha=.5)\n",
    "\n",
    "    plt.scatter(np.arange(9),\n",
    "                np.log10(1 + 1/(np.arange(9)+1))*df[who].shape[0],\n",
    "               color='black')\n",
    "    plt.plot(np.arange(9),\n",
    "                np.log10(1 + 1/(np.arange(9)+1))*df[who].shape[0],\n",
    "               color='black')\n",
    "    plt.title(who)\n",
    "    plt.ylim(0,ymax)\n",
    "    \n",
    "plt.figure(figsize=(12,8))\n",
    "plt.suptitle('Simulated Milwaukee ward-level data')\n",
    "\n",
    "sns.set_context('paper',font_scale=1.5)\n",
    "sns.set_style('white')\n",
    "\n",
    "for idx,who in enumerate(header[1:]):\n",
    "    plt.subplot(2,3,idx+1)\n",
    "    plot_benford_simulated(who,df)\n",
    "plt.tight_layout()"
   ]
  },
  {
   "cell_type": "markdown",
   "metadata": {},
   "source": [
    "<b>Result: Benford's law still appears broken even with randomly generated numbers. Something other than fabricated data is going on.</b>"
   ]
  },
  {
   "cell_type": "markdown",
   "metadata": {},
   "source": [
    "<h3>Hypothesis 2: Not fraud, just an artifact of Ward Size</h3>"
   ]
  },
  {
   "cell_type": "markdown",
   "metadata": {},
   "source": [
    "<p> Someone assigning vote totals does not explain the violation from benfords law for reasons scene above. \n",
    "    \n",
    "In other words, no one is putting an excess of 4s, 5s, and 6's in the vote totals. This rules out Benford-detectable fraud at the level of precinct reporting, but we want more. Why do we see so may 4s, 5s and 6s? We want an explanation for why this is occuring. \n",
    "    \n",
    "Benford's law requires that numbers occur across many orders of magnitude. In other words, we need things in the 1s, 10s, 100s, 1000s, 1000s. It's possible one candidates vote totals better follows Benford's law because it spans wider orders of magnitude. We can plot this to see if this is feasible. We add the most voted for third-party candidate as a sanity check.</p>"
   ]
  },
  {
   "cell_type": "code",
   "execution_count": 12,
   "metadata": {},
   "outputs": [
    {
     "ename": "NameError",
     "evalue": "name 'df' is not defined",
     "output_type": "error",
     "traceback": [
      "\u001b[0;31m---------------------------------------------------------------------------\u001b[0m",
      "\u001b[0;31mNameError\u001b[0m                                 Traceback (most recent call last)",
      "\u001b[0;32m<ipython-input-12-8189af3b9f15>\u001b[0m in \u001b[0;36m<module>\u001b[0;34m\u001b[0m\n\u001b[1;32m      1\u001b[0m \u001b[0mpal\u001b[0m \u001b[0;34m=\u001b[0m \u001b[0msns\u001b[0m\u001b[0;34m.\u001b[0m\u001b[0mdiverging_palette\u001b[0m\u001b[0;34m(\u001b[0m\u001b[0;36m220\u001b[0m\u001b[0;34m,\u001b[0m \u001b[0;36m20\u001b[0m\u001b[0;34m,\u001b[0m \u001b[0mas_cmap\u001b[0m\u001b[0;34m=\u001b[0m\u001b[0;32mFalse\u001b[0m\u001b[0;34m,\u001b[0m \u001b[0mn\u001b[0m\u001b[0;34m=\u001b[0m\u001b[0;36m3\u001b[0m\u001b[0;34m)\u001b[0m\u001b[0;34m\u001b[0m\u001b[0;34m\u001b[0m\u001b[0m\n\u001b[1;32m      2\u001b[0m \u001b[0mplt\u001b[0m\u001b[0;34m.\u001b[0m\u001b[0mfigure\u001b[0m\u001b[0;34m(\u001b[0m\u001b[0mfigsize\u001b[0m\u001b[0;34m=\u001b[0m\u001b[0;34m(\u001b[0m\u001b[0;36m4\u001b[0m\u001b[0;34m,\u001b[0m\u001b[0;36m4\u001b[0m\u001b[0;34m)\u001b[0m\u001b[0;34m)\u001b[0m\u001b[0;34m\u001b[0m\u001b[0;34m\u001b[0m\u001b[0m\n\u001b[0;32m----> 3\u001b[0;31m sns.kdeplot(np.log10(df[df['Trump']!=0]['Trump'].values,),\n\u001b[0m\u001b[1;32m      4\u001b[0m              label='Trump', color=pal[2],shade=True,clip=[0,4])\n\u001b[1;32m      5\u001b[0m sns.kdeplot(np.log10(df[df['Biden']!=0]['Biden']),\n",
      "\u001b[0;31mNameError\u001b[0m: name 'df' is not defined"
     ]
    },
    {
     "data": {
      "text/plain": [
       "<Figure size 288x288 with 0 Axes>"
      ]
     },
     "metadata": {},
     "output_type": "display_data"
    }
   ],
   "source": [
    "pal = sns.diverging_palette(220, 20, as_cmap=False, n=3)\n",
    "plt.figure(figsize=(4,4))\n",
    "sns.kdeplot(np.log10(df[df['Trump']!=0]['Trump'].values,),\n",
    "             label='Trump', color=pal[2],shade=True,clip=[0,4])\n",
    "sns.kdeplot(np.log10(df[df['Biden']!=0]['Biden']),\n",
    "             label='Biden',color=pal[0],shade=True,clip=[0,4])\n",
    "sns.kdeplot(np.log10(df[df['Carroll']!=0]['Carroll']),\n",
    "             label='Caroll',color='Grey',shade=True,clip=[0,4])\n",
    "plt.xlabel('Order of \\nMagnitude')\n",
    "plt.legend(loc='upper left')\n",
    "plt.xlim(0, 4)"
   ]
  },
  {
   "cell_type": "markdown",
   "metadata": {},
   "source": [
    "<p>This all feels a bit abstract though, and it's hard to exactly see what's going on </p> \n",
    "\n",
    "\n",
    "<p>To really drill down, we just need a scatterplot.</p>"
   ]
  },
  {
   "cell_type": "code",
   "execution_count": 13,
   "metadata": {},
   "outputs": [
    {
     "ename": "NameError",
     "evalue": "name 'df' is not defined",
     "output_type": "error",
     "traceback": [
      "\u001b[0;31m---------------------------------------------------------------------------\u001b[0m",
      "\u001b[0;31mNameError\u001b[0m                                 Traceback (most recent call last)",
      "\u001b[0;32m<ipython-input-13-7cc01384c075>\u001b[0m in \u001b[0;36m<module>\u001b[0;34m\u001b[0m\n\u001b[0;32m----> 1\u001b[0;31m \u001b[0mtemp\u001b[0m \u001b[0;34m=\u001b[0m \u001b[0mpd\u001b[0m\u001b[0;34m.\u001b[0m\u001b[0mmelt\u001b[0m\u001b[0;34m(\u001b[0m\u001b[0mdf\u001b[0m\u001b[0;34m,\u001b[0m\u001b[0mid_vars\u001b[0m\u001b[0;34m=\u001b[0m\u001b[0;34m[\u001b[0m\u001b[0;34m'Ward'\u001b[0m\u001b[0;34m,\u001b[0m \u001b[0;34m'total_votes'\u001b[0m\u001b[0;34m]\u001b[0m\u001b[0;34m)\u001b[0m\u001b[0;34m\u001b[0m\u001b[0;34m\u001b[0m\u001b[0m\n\u001b[0m\u001b[1;32m      2\u001b[0m \u001b[0mtemp\u001b[0m\u001b[0;34m[\u001b[0m\u001b[0;34m'proportion'\u001b[0m\u001b[0;34m]\u001b[0m \u001b[0;34m=\u001b[0m \u001b[0mtemp\u001b[0m\u001b[0;34m[\u001b[0m\u001b[0;34m'value'\u001b[0m\u001b[0;34m]\u001b[0m \u001b[0;34m/\u001b[0m \u001b[0mtemp\u001b[0m\u001b[0;34m[\u001b[0m\u001b[0;34m'total_votes'\u001b[0m\u001b[0;34m]\u001b[0m\u001b[0;34m\u001b[0m\u001b[0;34m\u001b[0m\u001b[0m\n\u001b[1;32m      3\u001b[0m \u001b[0mtemp\u001b[0m \u001b[0;34m=\u001b[0m \u001b[0mtemp\u001b[0m\u001b[0;34m[\u001b[0m\u001b[0;34m(\u001b[0m\u001b[0mtemp\u001b[0m\u001b[0;34m[\u001b[0m\u001b[0;34m'variable'\u001b[0m\u001b[0;34m]\u001b[0m\u001b[0;34m==\u001b[0m\u001b[0;34m'Biden'\u001b[0m\u001b[0;34m)\u001b[0m \u001b[0;34m|\u001b[0m\u001b[0;34m(\u001b[0m \u001b[0mtemp\u001b[0m\u001b[0;34m[\u001b[0m\u001b[0;34m'variable'\u001b[0m\u001b[0;34m]\u001b[0m\u001b[0;34m==\u001b[0m\u001b[0;34m'Trump'\u001b[0m\u001b[0;34m)\u001b[0m\u001b[0;34m]\u001b[0m\u001b[0;34m\u001b[0m\u001b[0;34m\u001b[0m\u001b[0m\n\u001b[1;32m      4\u001b[0m \u001b[0;34m\u001b[0m\u001b[0m\n\u001b[1;32m      5\u001b[0m \u001b[0mtemp\u001b[0m\u001b[0;34m.\u001b[0m\u001b[0mrename\u001b[0m\u001b[0;34m(\u001b[0m\u001b[0;34m{\u001b[0m\u001b[0;34m'variable'\u001b[0m\u001b[0;34m:\u001b[0m\u001b[0;34m'Candidate'\u001b[0m\u001b[0;34m}\u001b[0m\u001b[0;34m,\u001b[0m\u001b[0maxis\u001b[0m\u001b[0;34m=\u001b[0m\u001b[0;36m1\u001b[0m\u001b[0;34m)\u001b[0m\u001b[0;34m\u001b[0m\u001b[0;34m\u001b[0m\u001b[0m\n",
      "\u001b[0;31mNameError\u001b[0m: name 'df' is not defined"
     ]
    }
   ],
   "source": [
    "temp = pd.melt(df,id_vars=['Ward', 'total_votes'])\n",
    "temp['proportion'] = temp['value'] / temp['total_votes']\n",
    "temp = temp[(temp['variable']=='Biden') |( temp['variable']=='Trump')]\n",
    "\n",
    "temp.rename({'variable':'Candidate'},axis=1)\n",
    "h = sns.jointplot( x=\"value\", y=\"proportion\",hue='variable', data=temp,palette=[pal[0], pal[2]],\n",
    "          ylim=(0,1),xlim=(0,np.max(temp['total_votes'])))\n",
    "\n",
    "# JointGrid has a convenience function\n",
    "h.set_axis_labels('Ward size','Proportion of votes')\n",
    "plt.suptitle('2020 Milwaukee Ward-level Results')\n",
    "\n",
    "plt.savefig('./BenfordBullshitMilwaukee.png',fmt='.png', dpi=500)"
   ]
  },
  {
   "cell_type": "markdown",
   "metadata": {},
   "source": [
    "<p>"
   ]
  },
  {
   "cell_type": "markdown",
   "metadata": {},
   "source": [
    "<p>We note that the majority of the votes went to Biden. This makes sense given that Milwaukee historically leans blue. If we just plot this againt the district size, our mystery is solved.</p> \n",
    "\n",
    "<p>By comparison, Trump only held on to 10-50% of the vote in these districts so his distribution looks more like Benford's law is holding</p> \n",
    "    \n",
    "<strong>If you carry 50-95% of districts that are on average just shy of 1000 voters, you're gonna see a lot of 5,6,and 7's. There is *absolutely* nothing weird about this, just armchair data-scientists pushing disinformation.\n",
    "</strong>"
   ]
  },
  {
   "cell_type": "code",
   "execution_count": null,
   "metadata": {},
   "outputs": [],
   "source": []
  }
 ],
 "metadata": {
  "kernelspec": {
   "display_name": "Python 3",
   "language": "python",
   "name": "python3"
  },
  "language_info": {
   "codemirror_mode": {
    "name": "ipython",
    "version": 3
   },
   "file_extension": ".py",
   "mimetype": "text/x-python",
   "name": "python",
   "nbconvert_exporter": "python",
   "pygments_lexer": "ipython3",
   "version": "3.7.9"
  },
  "toc": {
   "base_numbering": 1,
   "nav_menu": {},
   "number_sections": true,
   "sideBar": true,
   "skip_h1_title": false,
   "title_cell": "Table of Contents",
   "title_sidebar": "Contents",
   "toc_cell": false,
   "toc_position": {},
   "toc_section_display": true,
   "toc_window_display": false
  }
 },
 "nbformat": 4,
 "nbformat_minor": 4
}
